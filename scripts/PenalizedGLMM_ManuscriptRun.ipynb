{
 "cells": [
  {
   "cell_type": "code",
   "execution_count": 1,
   "id": "cfe3addb-c72a-48b6-8d15-3f6f88f171eb",
   "metadata": {
    "tags": []
   },
   "outputs": [],
   "source": [
    "using RCall\n",
    "using BenchmarkTools\n",
    "using CSV\n",
    "using DataFrames\n",
    "using GLM\n",
    "using PenalizedGLMM\n",
    "using SnpArrays"
   ]
  },
  {
   "cell_type": "code",
   "execution_count": 2,
   "id": "740fe935-b995-45f8-a558-504c72ae3570",
   "metadata": {
    "tags": []
   },
   "outputs": [
    {
     "data": {
      "text/plain": [
       "v\"0.1.0\""
      ]
     },
     "execution_count": 2,
     "metadata": {},
     "output_type": "execute_result"
    }
   ],
   "source": [
    "pkgversion(PenalizedGLMM)"
   ]
  },
  {
   "cell_type": "code",
   "execution_count": 3,
   "id": "81e293be-4bd0-4201-bdd2-e81845eeaa44",
   "metadata": {
    "tags": []
   },
   "outputs": [
    {
     "data": {
      "text/plain": [
       "v\"1.6.0\""
      ]
     },
     "execution_count": 3,
     "metadata": {},
     "output_type": "execute_result"
    }
   ],
   "source": [
    "pkgversion(BenchmarkTools)"
   ]
  },
  {
   "cell_type": "code",
   "execution_count": 4,
   "id": "7cce13f1-7ecb-4ee2-8ea0-563ab5eaba2a",
   "metadata": {
    "tags": []
   },
   "outputs": [
    {
     "data": {
      "text/plain": [
       "1"
      ]
     },
     "execution_count": 4,
     "metadata": {},
     "output_type": "execute_result"
    }
   ],
   "source": [
    "Threads.nthreads()"
   ]
  },
  {
   "cell_type": "code",
   "execution_count": 2,
   "id": "9807f32e-65f7-4c44-afdd-1fac53be8046",
   "metadata": {
    "tags": []
   },
   "outputs": [
    {
     "data": {
      "text/plain": [
       "\"hpchome/manuscriptcomparison/data/PennCathGRM.txt.gz\""
      ]
     },
     "execution_count": 2,
     "metadata": {},
     "output_type": "execute_result"
    }
   ],
   "source": [
    "### data filepaths ###\n",
    "const datadir = \"data/\"\n",
    "const covfile = datadir * \"penncath.csv\" # includes binary phenotype data\n",
    "const plinkfile = datadir * \"qc_penncath\"\n",
    "const grmfile = datadir * \"PennCathGRM.txt.gz\" # genetics relatedness matrix"
   ]
  },
  {
   "cell_type": "code",
   "execution_count": 3,
   "id": "a06143ce-3845-4ebf-a858-07477fa831a4",
   "metadata": {
    "tags": []
   },
   "outputs": [
    {
     "data": {
      "text/html": [
       "<div><div style = \"float: left;\"><span>1401×7 DataFrame</span></div><div style = \"float: right;\"><span style = \"font-style: italic;\">1376 rows omitted</span></div><div style = \"clear: both;\"></div></div><div class = \"data-frame\" style = \"overflow-x: scroll;\"><table class = \"data-frame\" style = \"margin-bottom: 6px;\"><thead><tr class = \"header\"><th class = \"rowNumber\" style = \"font-weight: bold; text-align: right;\">Row</th><th style = \"text-align: left;\">FamID</th><th style = \"text-align: left;\">CAD</th><th style = \"text-align: left;\">sex</th><th style = \"text-align: left;\">age</th><th style = \"text-align: left;\">tg</th><th style = \"text-align: left;\">hdl</th><th style = \"text-align: left;\">ldl</th></tr><tr class = \"subheader headerLastRow\"><th class = \"rowNumber\" style = \"font-weight: bold; text-align: right;\"></th><th title = \"Int64\" style = \"text-align: left;\">Int64</th><th title = \"Int64\" style = \"text-align: left;\">Int64</th><th title = \"Int64\" style = \"text-align: left;\">Int64</th><th title = \"Int64\" style = \"text-align: left;\">Int64</th><th title = \"String7\" style = \"text-align: left;\">String7</th><th title = \"String3\" style = \"text-align: left;\">String3</th><th title = \"String3\" style = \"text-align: left;\">String3</th></tr></thead><tbody><tr><td class = \"rowNumber\" style = \"font-weight: bold; text-align: right;\">1</td><td style = \"text-align: right;\">10002</td><td style = \"text-align: right;\">1</td><td style = \"text-align: right;\">1</td><td style = \"text-align: right;\">60</td><td style = \"text-align: left;\">NA</td><td style = \"text-align: left;\">NA</td><td style = \"text-align: left;\">NA</td></tr><tr><td class = \"rowNumber\" style = \"font-weight: bold; text-align: right;\">2</td><td style = \"text-align: right;\">10004</td><td style = \"text-align: right;\">1</td><td style = \"text-align: right;\">2</td><td style = \"text-align: right;\">50</td><td style = \"text-align: left;\">55</td><td style = \"text-align: left;\">23</td><td style = \"text-align: left;\">75</td></tr><tr><td class = \"rowNumber\" style = \"font-weight: bold; text-align: right;\">3</td><td style = \"text-align: right;\">10005</td><td style = \"text-align: right;\">1</td><td style = \"text-align: right;\">1</td><td style = \"text-align: right;\">55</td><td style = \"text-align: left;\">105</td><td style = \"text-align: left;\">37</td><td style = \"text-align: left;\">69</td></tr><tr><td class = \"rowNumber\" style = \"font-weight: bold; text-align: right;\">4</td><td style = \"text-align: right;\">10007</td><td style = \"text-align: right;\">1</td><td style = \"text-align: right;\">1</td><td style = \"text-align: right;\">52</td><td style = \"text-align: left;\">314</td><td style = \"text-align: left;\">54</td><td style = \"text-align: left;\">108</td></tr><tr><td class = \"rowNumber\" style = \"font-weight: bold; text-align: right;\">5</td><td style = \"text-align: right;\">10008</td><td style = \"text-align: right;\">1</td><td style = \"text-align: right;\">1</td><td style = \"text-align: right;\">58</td><td style = \"text-align: left;\">161</td><td style = \"text-align: left;\">40</td><td style = \"text-align: left;\">94</td></tr><tr><td class = \"rowNumber\" style = \"font-weight: bold; text-align: right;\">6</td><td style = \"text-align: right;\">10009</td><td style = \"text-align: right;\">1</td><td style = \"text-align: right;\">1</td><td style = \"text-align: right;\">59</td><td style = \"text-align: left;\">171</td><td style = \"text-align: left;\">46</td><td style = \"text-align: left;\">92</td></tr><tr><td class = \"rowNumber\" style = \"font-weight: bold; text-align: right;\">7</td><td style = \"text-align: right;\">10010</td><td style = \"text-align: right;\">1</td><td style = \"text-align: right;\">1</td><td style = \"text-align: right;\">54</td><td style = \"text-align: left;\">147</td><td style = \"text-align: left;\">69</td><td style = \"text-align: left;\">109</td></tr><tr><td class = \"rowNumber\" style = \"font-weight: bold; text-align: right;\">8</td><td style = \"text-align: right;\">10011</td><td style = \"text-align: right;\">1</td><td style = \"text-align: right;\">2</td><td style = \"text-align: right;\">66</td><td style = \"text-align: left;\">124</td><td style = \"text-align: left;\">47</td><td style = \"text-align: left;\">84</td></tr><tr><td class = \"rowNumber\" style = \"font-weight: bold; text-align: right;\">9</td><td style = \"text-align: right;\">10012</td><td style = \"text-align: right;\">1</td><td style = \"text-align: right;\">1</td><td style = \"text-align: right;\">58</td><td style = \"text-align: left;\">60</td><td style = \"text-align: left;\">114</td><td style = \"text-align: left;\">67</td></tr><tr><td class = \"rowNumber\" style = \"font-weight: bold; text-align: right;\">10</td><td style = \"text-align: right;\">10013</td><td style = \"text-align: right;\">0</td><td style = \"text-align: right;\">2</td><td style = \"text-align: right;\">67</td><td style = \"text-align: left;\">160</td><td style = \"text-align: left;\">40</td><td style = \"text-align: left;\">112</td></tr><tr><td class = \"rowNumber\" style = \"font-weight: bold; text-align: right;\">11</td><td style = \"text-align: right;\">10014</td><td style = \"text-align: right;\">1</td><td style = \"text-align: right;\">1</td><td style = \"text-align: right;\">45</td><td style = \"text-align: left;\">95</td><td style = \"text-align: left;\">35</td><td style = \"text-align: left;\">158</td></tr><tr><td class = \"rowNumber\" style = \"font-weight: bold; text-align: right;\">12</td><td style = \"text-align: right;\">10015</td><td style = \"text-align: right;\">1</td><td style = \"text-align: right;\">1</td><td style = \"text-align: right;\">58</td><td style = \"text-align: left;\">120</td><td style = \"text-align: left;\">36</td><td style = \"text-align: left;\">72</td></tr><tr><td class = \"rowNumber\" style = \"font-weight: bold; text-align: right;\">13</td><td style = \"text-align: right;\">10016</td><td style = \"text-align: right;\">1</td><td style = \"text-align: right;\">1</td><td style = \"text-align: right;\">58</td><td style = \"text-align: left;\">207</td><td style = \"text-align: left;\">42</td><td style = \"text-align: left;\">167</td></tr><tr><td style = \"text-align: right;\">&vellip;</td><td style = \"text-align: right;\">&vellip;</td><td style = \"text-align: right;\">&vellip;</td><td style = \"text-align: right;\">&vellip;</td><td style = \"text-align: right;\">&vellip;</td><td style = \"text-align: right;\">&vellip;</td><td style = \"text-align: right;\">&vellip;</td><td style = \"text-align: right;\">&vellip;</td></tr><tr><td class = \"rowNumber\" style = \"font-weight: bold; text-align: right;\">1390</td><td style = \"text-align: right;\">11583</td><td style = \"text-align: right;\">0</td><td style = \"text-align: right;\">2</td><td style = \"text-align: right;\">53</td><td style = \"text-align: left;\">NA</td><td style = \"text-align: left;\">NA</td><td style = \"text-align: left;\">NA</td></tr><tr><td class = \"rowNumber\" style = \"font-weight: bold; text-align: right;\">1391</td><td style = \"text-align: right;\">11584</td><td style = \"text-align: right;\">1</td><td style = \"text-align: right;\">2</td><td style = \"text-align: right;\">46</td><td style = \"text-align: left;\">62</td><td style = \"text-align: left;\">63</td><td style = \"text-align: left;\">118</td></tr><tr><td class = \"rowNumber\" style = \"font-weight: bold; text-align: right;\">1392</td><td style = \"text-align: right;\">11585</td><td style = \"text-align: right;\">0</td><td style = \"text-align: right;\">2</td><td style = \"text-align: right;\">62</td><td style = \"text-align: left;\">109</td><td style = \"text-align: left;\">45</td><td style = \"text-align: left;\">180</td></tr><tr><td class = \"rowNumber\" style = \"font-weight: bold; text-align: right;\">1393</td><td style = \"text-align: right;\">11587</td><td style = \"text-align: right;\">0</td><td style = \"text-align: right;\">1</td><td style = \"text-align: right;\">66</td><td style = \"text-align: left;\">NA</td><td style = \"text-align: left;\">NA</td><td style = \"text-align: left;\">NA</td></tr><tr><td class = \"rowNumber\" style = \"font-weight: bold; text-align: right;\">1394</td><td style = \"text-align: right;\">11588</td><td style = \"text-align: right;\">0</td><td style = \"text-align: right;\">1</td><td style = \"text-align: right;\">58</td><td style = \"text-align: left;\">150</td><td style = \"text-align: left;\">39</td><td style = \"text-align: left;\">144</td></tr><tr><td class = \"rowNumber\" style = \"font-weight: bold; text-align: right;\">1395</td><td style = \"text-align: right;\">11589</td><td style = \"text-align: right;\">1</td><td style = \"text-align: right;\">1</td><td style = \"text-align: right;\">66</td><td style = \"text-align: left;\">NA</td><td style = \"text-align: left;\">NA</td><td style = \"text-align: left;\">NA</td></tr><tr><td class = \"rowNumber\" style = \"font-weight: bold; text-align: right;\">1396</td><td style = \"text-align: right;\">11590</td><td style = \"text-align: right;\">1</td><td style = \"text-align: right;\">2</td><td style = \"text-align: right;\">49</td><td style = \"text-align: left;\">290</td><td style = \"text-align: left;\">32</td><td style = \"text-align: left;\">174</td></tr><tr><td class = \"rowNumber\" style = \"font-weight: bold; text-align: right;\">1397</td><td style = \"text-align: right;\">11591</td><td style = \"text-align: right;\">0</td><td style = \"text-align: right;\">2</td><td style = \"text-align: right;\">59</td><td style = \"text-align: left;\">34</td><td style = \"text-align: left;\">44</td><td style = \"text-align: left;\">89</td></tr><tr><td class = \"rowNumber\" style = \"font-weight: bold; text-align: right;\">1398</td><td style = \"text-align: right;\">11592</td><td style = \"text-align: right;\">1</td><td style = \"text-align: right;\">1</td><td style = \"text-align: right;\">45</td><td style = \"text-align: left;\">69</td><td style = \"text-align: left;\">101</td><td style = \"text-align: left;\">77</td></tr><tr><td class = \"rowNumber\" style = \"font-weight: bold; text-align: right;\">1399</td><td style = \"text-align: right;\">11593</td><td style = \"text-align: right;\">1</td><td style = \"text-align: right;\">1</td><td style = \"text-align: right;\">59</td><td style = \"text-align: left;\">77</td><td style = \"text-align: left;\">27</td><td style = \"text-align: left;\">41</td></tr><tr><td class = \"rowNumber\" style = \"font-weight: bold; text-align: right;\">1400</td><td style = \"text-align: right;\">11594</td><td style = \"text-align: right;\">1</td><td style = \"text-align: right;\">1</td><td style = \"text-align: right;\">30</td><td style = \"text-align: left;\">NA</td><td style = \"text-align: left;\">NA</td><td style = \"text-align: left;\">NA</td></tr><tr><td class = \"rowNumber\" style = \"font-weight: bold; text-align: right;\">1401</td><td style = \"text-align: right;\">11596</td><td style = \"text-align: right;\">0</td><td style = \"text-align: right;\">1</td><td style = \"text-align: right;\">64</td><td style = \"text-align: left;\">224</td><td style = \"text-align: left;\">35</td><td style = \"text-align: left;\">96</td></tr></tbody></table></div>"
      ],
      "text/latex": [
       "\\begin{tabular}{r|ccccccc}\n",
       "\t& FamID & CAD & sex & age & tg & hdl & ldl\\\\\n",
       "\t\\hline\n",
       "\t& Int64 & Int64 & Int64 & Int64 & String7 & String3 & String3\\\\\n",
       "\t\\hline\n",
       "\t1 & 10002 & 1 & 1 & 60 & NA & NA & NA \\\\\n",
       "\t2 & 10004 & 1 & 2 & 50 & 55 & 23 & 75 \\\\\n",
       "\t3 & 10005 & 1 & 1 & 55 & 105 & 37 & 69 \\\\\n",
       "\t4 & 10007 & 1 & 1 & 52 & 314 & 54 & 108 \\\\\n",
       "\t5 & 10008 & 1 & 1 & 58 & 161 & 40 & 94 \\\\\n",
       "\t6 & 10009 & 1 & 1 & 59 & 171 & 46 & 92 \\\\\n",
       "\t7 & 10010 & 1 & 1 & 54 & 147 & 69 & 109 \\\\\n",
       "\t8 & 10011 & 1 & 2 & 66 & 124 & 47 & 84 \\\\\n",
       "\t9 & 10012 & 1 & 1 & 58 & 60 & 114 & 67 \\\\\n",
       "\t10 & 10013 & 0 & 2 & 67 & 160 & 40 & 112 \\\\\n",
       "\t11 & 10014 & 1 & 1 & 45 & 95 & 35 & 158 \\\\\n",
       "\t12 & 10015 & 1 & 1 & 58 & 120 & 36 & 72 \\\\\n",
       "\t13 & 10016 & 1 & 1 & 58 & 207 & 42 & 167 \\\\\n",
       "\t14 & 10017 & 1 & 1 & 57 & 150 & 46 & 176 \\\\\n",
       "\t15 & 10018 & 1 & 1 & 42 & 119 & 35 & 76 \\\\\n",
       "\t16 & 10019 & 1 & 1 & 51 & NA & NA & NA \\\\\n",
       "\t17 & 10020 & 1 & 1 & 40 & 58 & 42 & 107 \\\\\n",
       "\t18 & 10021 & 1 & 1 & 43 & 404 & 38 & NA \\\\\n",
       "\t19 & 10022 & 1 & 1 & 54 & 119 & 45 & 137 \\\\\n",
       "\t20 & 10023 & 1 & 2 & 64 & 145 & 44 & 122 \\\\\n",
       "\t21 & 10024 & 1 & 2 & 62 & 55 & 56 & 129 \\\\\n",
       "\t22 & 10025 & 1 & 1 & 57 & 197 & 51 & 99 \\\\\n",
       "\t23 & 10026 & 1 & 2 & 65 & 73 & 52 & 73 \\\\\n",
       "\t24 & 10027 & 0 & 2 & 57 & 25 & 126 & 92 \\\\\n",
       "\t25 & 10028 & 0 & 1 & 49 & 125 & 36 & 100 \\\\\n",
       "\t26 & 10029 & 0 & 1 & 60 & 56 & 74 & 67 \\\\\n",
       "\t27 & 10030 & 1 & 2 & 66 & 102 & 40 & 91 \\\\\n",
       "\t28 & 10031 & 1 & 1 & 55 & 509 & 47 & NA \\\\\n",
       "\t29 & 10032 & 0 & 2 & 55 & 202 & 68 & 167 \\\\\n",
       "\t30 & 10033 & 0 & 1 & 58 & 131 & 43 & 141 \\\\\n",
       "\t$\\dots$ & $\\dots$ & $\\dots$ & $\\dots$ & $\\dots$ & $\\dots$ & $\\dots$ & $\\dots$ \\\\\n",
       "\\end{tabular}\n"
      ],
      "text/plain": [
       "\u001b[1m1401×7 DataFrame\u001b[0m\n",
       "\u001b[1m  Row \u001b[0m│\u001b[1m FamID \u001b[0m\u001b[1m CAD   \u001b[0m\u001b[1m sex   \u001b[0m\u001b[1m age   \u001b[0m\u001b[1m tg      \u001b[0m\u001b[1m hdl     \u001b[0m\u001b[1m ldl     \u001b[0m\n",
       "      │\u001b[90m Int64 \u001b[0m\u001b[90m Int64 \u001b[0m\u001b[90m Int64 \u001b[0m\u001b[90m Int64 \u001b[0m\u001b[90m String7 \u001b[0m\u001b[90m String3 \u001b[0m\u001b[90m String3 \u001b[0m\n",
       "──────┼───────────────────────────────────────────────────────\n",
       "    1 │ 10002      1      1     60  NA       NA       NA\n",
       "    2 │ 10004      1      2     50  55       23       75\n",
       "    3 │ 10005      1      1     55  105      37       69\n",
       "    4 │ 10007      1      1     52  314      54       108\n",
       "    5 │ 10008      1      1     58  161      40       94\n",
       "    6 │ 10009      1      1     59  171      46       92\n",
       "    7 │ 10010      1      1     54  147      69       109\n",
       "    8 │ 10011      1      2     66  124      47       84\n",
       "    9 │ 10012      1      1     58  60       114      67\n",
       "   10 │ 10013      0      2     67  160      40       112\n",
       "   11 │ 10014      1      1     45  95       35       158\n",
       "  ⋮   │   ⋮      ⋮      ⋮      ⋮       ⋮        ⋮        ⋮\n",
       " 1392 │ 11585      0      2     62  109      45       180\n",
       " 1393 │ 11587      0      1     66  NA       NA       NA\n",
       " 1394 │ 11588      0      1     58  150      39       144\n",
       " 1395 │ 11589      1      1     66  NA       NA       NA\n",
       " 1396 │ 11590      1      2     49  290      32       174\n",
       " 1397 │ 11591      0      2     59  34       44       89\n",
       " 1398 │ 11592      1      1     45  69       101      77\n",
       " 1399 │ 11593      1      1     59  77       27       41\n",
       " 1400 │ 11594      1      1     30  NA       NA       NA\n",
       " 1401 │ 11596      0      1     64  224      35       96\n",
       "\u001b[36m                                             1380 rows omitted\u001b[0m"
      ]
     },
     "execution_count": 3,
     "metadata": {},
     "output_type": "execute_result"
    }
   ],
   "source": [
    "### read in covariate file ###\n",
    "covdf = CSV.read(covfile, DataFrame)\n",
    "#fam = CSV.read(famfile, DataFrame, delim = \" \", header = false)\n",
    "#rename!(fam,:Column1 => :FamID)\n",
    "#covdf = rightjoin(covdf, fam, on = :FamID)"
   ]
  },
  {
   "cell_type": "code",
   "execution_count": 4,
   "id": "60ac32fd-c7d4-4bad-9608-ac170290ddc8",
   "metadata": {
    "tags": []
   },
   "outputs": [
    {
     "data": {
      "text/plain": [
       "\"penncathfloat.csv\""
      ]
     },
     "execution_count": 4,
     "metadata": {},
     "output_type": "execute_result"
    }
   ],
   "source": [
    "# force CAD to be a float (for normal approx)\n",
    "covdf[:,:CADfloat] = convert(Array{Float64}, covdf[:,:CAD])\n",
    "CSV.write(\"penncathfloat.csv\", covdf)\n",
    "const floatcovfile = \"penncathfloat.csv\""
   ]
  },
  {
   "cell_type": "code",
   "execution_count": 38,
   "id": "045c22b9-8cd2-47bd-8809-86b1e0befc80",
   "metadata": {
    "tags": []
   },
   "outputs": [
    {
     "name": "stdout",
     "output_type": "stream",
     "text": [
      "Median time: 68.30368197050001 seconds\n",
      "Minimum: 60.481683923 seconds\n",
      "Maximum: 75.748191132 seconds\n"
     ]
    }
   ],
   "source": [
    "# Run the benchmark 10 times\n",
    "# normnull_times = []\n",
    "# for i in 1:10\n",
    "#     push!(normnull_times, @belapsed pglmm_null(@formula(CADfloat ~ age + sex), covfile = floatcovfile, grmfile = grmfile, \n",
    "#     family = Normal(), link = IdentityLink()))\n",
    "# end\n",
    "\n",
    "# Calculate the median and range\n",
    "# median_time = median(normnull_times)\n",
    "# min_time = minimum(normnull_times)\n",
    "# max_time = maximum(normnull_times)\n",
    "\n",
    "# println(\"Median time: $median_time seconds\")\n",
    "# println(\"Minimum: $min_time seconds\")\n",
    "# println(\"Maximum: $max_time seconds\")"
   ]
  },
  {
   "cell_type": "code",
   "execution_count": 6,
   "id": "258617e7-3cb4-40f2-83db-89edfceb30f3",
   "metadata": {
    "tags": []
   },
   "outputs": [
    {
     "data": {
      "text/plain": [
       "(φ = 0.1748913486123, τ = [0.0], α = [2.037336709986514, -0.17025981031668705, -0.02054277167222361], η = [0.6345105993364102, 0.6696785057419594, 0.7372244576975282, 0.7988527727141991, 0.6755961426808573, 0.6550533710086337, 0.7577672293697517, 0.34099415898638163, 0.6755961426808573, 0.32045138731415806  …  0.42316524567527614, 0.5112539693030684, 0.6755961426808573, 0.5112539693030684, 0.6902212774141829, 0.484793560691947, 0.9426521744197642, 0.6550533710086337, 1.2507937495031185, 0.5523395126475156], b = [0.0, 0.0, 0.0, 0.0, 0.0, 0.0, 0.0, 0.0, 0.0, 0.0  …  0.0, 0.0, 0.0, 0.0, 0.0, 0.0, 0.0, 0.0, 0.0, 0.0], converged = true, τV = [1.0e-5 0.0 … 0.0 0.0; 0.0 1.0e-5 … 0.0 0.0; … ; 0.0 0.0 … 1.0e-5 0.0; 0.0 0.0 … 0.0 1.0e-5], y = [1.0, 1.0, 1.0, 1.0, 1.0, 1.0, 1.0, 1.0, 1.0, 0.0  …  0.0, 0.0, 0.0, 1.0, 1.0, 0.0, 1.0, 1.0, 1.0, 0.0], X = [1.0 1.0 60.0; 1.0 2.0 50.0; … ; 1.0 1.0 30.0; 1.0 1.0 64.0], L = [1.0 0.0 … 0.0 0.0; 0.0 1.0 … 0.0 0.0; … ; 0.0 0.0 … 1.0 0.0; 0.0 0.0 … 0.0 1.0], H = [1.0 0.0 … 0.0 0.0; 0.0 1.0 … 0.0 0.0; … ; 0.0 0.0 … 1.0 0.0; 0.0 0.0 … 0.0 1.0], ind_E = nothing, D = 0×0 LinearAlgebra.Symmetric{Float64, Matrix{Float64}}, family = Normal{Float64}(μ=0.0, σ=1.0), nsteps = 8)"
      ]
     },
     "execution_count": 6,
     "metadata": {},
     "output_type": "execute_result"
    }
   ],
   "source": [
    "nullmodel_normal = pglmm_null(@formula(CADfloat ~ sex + age), covfile = floatcovfile, grmfile = grmfile, \n",
    "   family = Normal(), link = IdentityLink())"
   ]
  },
  {
   "cell_type": "code",
   "execution_count": 39,
   "id": "ab40b7f5-dfd5-4817-8c9a-3a3c7fe38b16",
   "metadata": {
    "tags": []
   },
   "outputs": [
    {
     "data": {
      "text/plain": [
       "69.827473539"
      ]
     },
     "execution_count": 39,
     "metadata": {},
     "output_type": "execute_result"
    }
   ],
   "source": [
    "@elapsed pglmm_null(@formula(CADfloat ~ sex + age), covfile = floatcovfile, grmfile = grmfile, \n",
    "   family = Normal(), link = IdentityLink())"
   ]
  },
  {
   "cell_type": "code",
   "execution_count": 38,
   "id": "77541d12-014e-43eb-b0f3-89894fb2f93a",
   "metadata": {},
   "outputs": [
    {
     "name": "stdout",
     "output_type": "stream",
     "text": [
      "true"
     ]
    }
   ],
   "source": [
    "print(nullmodel_normal.converged)"
   ]
  },
  {
   "cell_type": "code",
   "execution_count": 37,
   "id": "3de050e0-769d-4e82-9089-f540ae4f94e2",
   "metadata": {
    "tags": []
   },
   "outputs": [
    {
     "name": "stdout",
     "output_type": "stream",
     "text": [
      "Median time: 941.6487381249999 seconds\n",
      "Minimum: 935.979902024 seconds\n",
      "Maximum: 981.174038304 seconds\n"
     ]
    }
   ],
   "source": [
    "# Normal model\n",
    "\n",
    "# Run the benchmark 10 times\n",
    "# normfit_times = []\n",
    "# for i in 1:10\n",
    "#     push!(normfit_times, @belapsed pglmm(nullmodel_normal, plinkfile))\n",
    "# end\n",
    "\n",
    "# Calculate the median and range\n",
    "# median_time = median(normfit_times)\n",
    "# min_time = minimum(normfit_times)\n",
    "# max_time = maximum(normfit_times)\n",
    "\n",
    "# println(\"Median time: $median_time seconds\")\n",
    "# println(\"Minimum: $min_time seconds\")\n",
    "# println(\"Maximum: $max_time seconds\")"
   ]
  },
  {
   "cell_type": "code",
   "execution_count": null,
   "id": "dfbeebc4-3fc4-4164-a744-d93f94d44fc8",
   "metadata": {},
   "outputs": [],
   "source": [
    "modelfit_normal = pglmm(nullmodel_normal, plinkfile)"
   ]
  },
  {
   "cell_type": "code",
   "execution_count": null,
   "id": "ade513ea-664a-4d42-ad93-ca5b59c99d63",
   "metadata": {},
   "outputs": [],
   "source": [
    "@belapsed pglmm(nullmodel_normal, plinkfile)"
   ]
  }
 ],
 "metadata": {
  "kernelspec": {
   "display_name": "Julia 1.11.2",
   "language": "julia",
   "name": "julia-1.11"
  },
  "language_info": {
   "file_extension": ".jl",
   "mimetype": "application/julia",
   "name": "julia",
   "version": "1.11.2"
  }
 },
 "nbformat": 4,
 "nbformat_minor": 5
}
