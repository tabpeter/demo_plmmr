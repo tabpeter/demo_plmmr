{
 "cells": [
  {
   "cell_type": "code",
   "execution_count": null,
   "id": "cfe3addb-c72a-48b6-8d15-3f6f88f171eb",
   "metadata": {
    "tags": []
   },
   "outputs": [],
   "source": [
    "using RCall\n",
    "using BenchmarkTools\n",
    "using CSV\n",
    "using DataFrames\n",
    "using GLM\n",
    "using PenalizedGLMM\n",
    "using SnpArrays"
   ]
  },
  {
   "cell_type": "code",
   "execution_count": null,
   "id": "740fe935-b995-45f8-a558-504c72ae3570",
   "metadata": {
    "tags": []
   },
   "outputs": [],
   "source": [
    "pkgversion(PenalizedGLMM)"
   ]
  },
  {
   "cell_type": "code",
   "execution_count": null,
   "id": "81e293be-4bd0-4201-bdd2-e81845eeaa44",
   "metadata": {
    "tags": []
   },
   "outputs": [],
   "source": [
    "pkgversion(BenchmarkTools)"
   ]
  },
  {
   "cell_type": "code",
   "execution_count": null,
   "id": "7cce13f1-7ecb-4ee2-8ea0-563ab5eaba2a",
   "metadata": {
    "tags": []
   },
   "outputs": [],
   "source": [
    "Threads.nthreads()"
   ]
  },
  {
   "cell_type": "code",
   "execution_count": null,
   "id": "9807f32e-65f7-4c44-afdd-1fac53be8046",
   "metadata": {
    "tags": []
   },
   "outputs": [],
   "source": [
    "### data filepaths ###\n",
    "const datadir = \"data/\"\n",
    "const covfile = datadir * \"penncath.csv\" # includes binary phenotype data\n",
    "const plinkfile = datadir * \"qc_penncath\"\n",
    "const grmfile = datadir * \"PennCathGRM.txt.gz\" # genetic relatedness matrix"
   ]
  },
  {
   "cell_type": "code",
   "execution_count": null,
   "id": "a06143ce-3845-4ebf-a858-07477fa831a4",
   "metadata": {
    "tags": []
   },
   "outputs": [],
   "source": [
    "### read in covariate file ###\n",
    "covdf = CSV.read(covfile, DataFrame)\n",
    "#fam = CSV.read(famfile, DataFrame, delim = \" \", header = false)\n",
    "#rename!(fam,:Column1 => :FamID)\n",
    "#covdf = rightjoin(covdf, fam, on = :FamID)"
   ]
  },
  {
   "cell_type": "code",
   "execution_count": null,
   "id": "60ac32fd-c7d4-4bad-9608-ac170290ddc8",
   "metadata": {
    "tags": []
   },
   "outputs": [],
   "source": [
    "# force CAD to be a float (for normal approx)\n",
    "covdf[:,:CADfloat] = convert(Array{Float64}, covdf[:,:CAD])\n",
    "CSV.write(\"penncathfloat.csv\", covdf)\n",
    "const floatcovfile = \"penncathfloat.csv\""
   ]
  },
  {
   "cell_type": "code",
   "execution_count": null,
   "id": "045c22b9-8cd2-47bd-8809-86b1e0befc80",
   "metadata": {
    "tags": []
   },
   "outputs": [],
   "source": [
    "# Run the benchmark 10 times\n",
    "# normnull_times = []\n",
    "# for i in 1:10\n",
    "#     push!(normnull_times, @belapsed pglmm_null(@formula(CADfloat ~ age + sex), covfile = floatcovfile, grmfile = grmfile, \n",
    "#    family = Normal(), link = IdentityLink()))\n",
    "# end\n",
    "\n",
    "# Calculate the median and range\n",
    "# median_time = median(normnull_times)\n",
    "# min_time = minimum(normnull_times)\n",
    "# max_time = maximum(normnull_times)\n",
    "\n",
    "# println(\"Median time: $median_time seconds\")\n",
    "# println(\"Minimum: $min_time seconds\")\n",
    "# println(\"Maximum: $max_time seconds\")"
   ]
  },
  {
   "cell_type": "code",
   "execution_count": null,
   "id": "258617e7-3cb4-40f2-83db-89edfceb30f3",
   "metadata": {
    "tags": []
   },
   "outputs": [],
   "source": [
    "nullmodel_normal = pglmm_null(@formula(CADfloat ~ sex + age), covfile = floatcovfile, grmfile = grmfile, \n",
    "   family = Normal(), link = IdentityLink())"
   ]
  },
  {
   "cell_type": "code",
   "execution_count": null,
   "id": "ab40b7f5-dfd5-4817-8c9a-3a3c7fe38b16",
   "metadata": {
    "tags": []
   },
   "outputs": [],
   "source": [
    "@elapsed pglmm_null(@formula(CADfloat ~ sex + age), covfile = floatcovfile, grmfile = grmfile, \n",
    "   family = Normal(), link = IdentityLink())"
   ]
  },
  {
   "cell_type": "code",
   "execution_count": null,
   "id": "77541d12-014e-43eb-b0f3-89894fb2f93a",
   "metadata": {},
   "outputs": [],
   "source": [
    "print(nullmodel_normal.converged)"
   ]
  },
  {
   "cell_type": "code",
   "execution_count": null,
   "id": "3de050e0-769d-4e82-9089-f540ae4f94e2",
   "metadata": {
    "tags": []
   },
   "outputs": [],
   "source": [
    "# Normal model\n",
    "\n",
    "# Run the benchmark 10 times\n",
    "# normfit_times = []\n",
    "# for i in 1:10\n",
    "#     push!(normfit_times, @belapsed pglmm(nullmodel_normal, plinkfile))\n",
    "# end\n",
    "\n",
    "# Calculate the median and range\n",
    "# median_time = median(normfit_times)\n",
    "# min_time = minimum(normfit_times)\n",
    "# max_time = maximum(normfit_times)\n",
    "\n",
    "# println(\"Median time: $median_time seconds\")\n",
    "# println(\"Minimum: $min_time seconds\")\n",
    "# println(\"Maximum: $max_time seconds\")"
   ]
  },
  {
   "cell_type": "code",
   "execution_count": null,
   "id": "dfbeebc4-3fc4-4164-a744-d93f94d44fc8",
   "metadata": {},
   "outputs": [],
   "source": [
    "modelfit_normal = pglmm(nullmodel_normal, plinkfile)"
   ]
  },
  {
   "cell_type": "code",
   "execution_count": null,
   "id": "ade513ea-664a-4d42-ad93-ca5b59c99d63",
   "metadata": {},
   "outputs": [],
   "source": [
    "@elapsed pglmm(nullmodel_normal, plinkfile)"
   ]
  }
 ],
 "metadata": {
  "kernelspec": {
   "display_name": "Julia 1.11.2",
   "language": "julia",
   "name": "julia-1.11"
  },
  "language_info": {
   "file_extension": ".jl",
   "mimetype": "application/julia",
   "name": "julia",
   "version": "1.11.2"
  }
 },
 "nbformat": 4,
 "nbformat_minor": 5
}
