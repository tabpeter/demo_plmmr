{
 "cells": [
  {
   "cell_type": "code",
   "execution_count": null,
   "id": "cfe3addb-c72a-48b6-8d15-3f6f88f171eb",
   "metadata": {
    "tags": []
   },
   "outputs": [],
   "source": [
    "using RCall\n",
    "using BenchmarkTools\n",
    "using CSV\n",
    "using DataFrames\n",
    "using GLM\n",
    "using PenalizedGLMM\n",
    "using SnpArrays"
   ]
  },
  {
   "cell_type": "code",
   "execution_count": null,
   "id": "740fe935-b995-45f8-a558-504c72ae3570",
   "metadata": {
    "tags": []
   },
   "outputs": [],
   "source": [
    "pkgversion(PenalizedGLMM)"
   ]
  },
  {
   "cell_type": "code",
   "execution_count": null,
   "id": "81e293be-4bd0-4201-bdd2-e81845eeaa44",
   "metadata": {
    "tags": []
   },
   "outputs": [],
   "source": [
    "pkgversion(BenchmarkTools)"
   ]
  },
  {
   "cell_type": "code",
   "execution_count": null,
   "id": "7cce13f1-7ecb-4ee2-8ea0-563ab5eaba2a",
   "metadata": {
    "tags": []
   },
   "outputs": [],
   "source": [
    "Threads.nthreads()"
   ]
  },
  {
   "cell_type": "code",
   "execution_count": null,
   "id": "3bcf2e99-49b8-4447-9da6-c747541e29c4",
   "metadata": {
    "tags": []
   },
   "outputs": [],
   "source": [
    "cd(joinpath(\"..\", \"..\"))"
   ]
  },
  {
   "cell_type": "code",
   "execution_count": null,
   "id": "9807f32e-65f7-4c44-afdd-1fac53be8046",
   "metadata": {
    "tags": []
   },
   "outputs": [],
   "source": [
    "### data filepaths ###\n",
    "const covfile = joinpath(\"data\", \"penncath.csv\") # includes binary phenotype data\n",
    "const plinkfile = joinpath(\"data\", \"qc_penncath\")\n",
    "const grmfile = joinpath(\"results\", \"penncath-k.csv.gz\") # genetic relatedness matrix"
   ]
  },
  {
   "cell_type": "code",
   "execution_count": null,
   "id": "a06143ce-3845-4ebf-a858-07477fa831a4",
   "metadata": {
    "tags": []
   },
   "outputs": [],
   "source": [
    "### read in covariate file ###\n",
    "covdf = CSV.read(covfile, DataFrame)\n",
    "#fam = CSV.read(famfile, DataFrame, delim = \" \", header = false)\n",
    "#rename!(fam,:Column1 => :FamID)\n",
    "#covdf = rightjoin(covdf, fam, on = :FamID)"
   ]
  },
  {
   "cell_type": "code",
   "execution_count": null,
   "id": "60ac32fd-c7d4-4bad-9608-ac170290ddc8",
   "metadata": {
    "tags": []
   },
   "outputs": [],
   "source": [
    "# force CAD to be a float (for normal approx)\n",
    "covdf[!,:CADfloat] = convert(Array{Float64}, covdf[!,:CAD])\n",
    "CSV.write(joinpath(\"results\", \"penncath-float.csv\"), covdf)\n",
    "const floatcovfile = joinpath(\"results\", \"penncath-float.csv\")"
   ]
  },
  {
   "cell_type": "code",
   "execution_count": null,
   "id": "258617e7-3cb4-40f2-83db-89edfceb30f3",
   "metadata": {
    "tags": []
   },
   "outputs": [],
   "source": [
    "nullmodel_normal = pglmm_null(@formula(CADfloat ~ sex + age), \n",
    "    covfile = floatcovfile, \n",
    "    grmfile = grmfile, \n",
    "    family = Normal(), \n",
    "    link = IdentityLink())"
   ]
  },
  {
   "cell_type": "code",
   "execution_count": null,
   "id": "101fceac-7d82-4885-8fe1-4d69f2482e8c",
   "metadata": {
    "tags": []
   },
   "outputs": [],
   "source": [
    "nullmodel_normal.τ"
   ]
  },
  {
   "cell_type": "code",
   "execution_count": null,
   "id": "ab40b7f5-dfd5-4817-8c9a-3a3c7fe38b16",
   "metadata": {
    "tags": []
   },
   "outputs": [],
   "source": [
    "# @elapsed pglmm_null(@formula(CADfloat ~ sex + age), covfile = floatcovfile, grmfile = grmfile, \n",
    "#     family = Normal(), link = IdentityLink())"
   ]
  },
  {
   "cell_type": "code",
   "execution_count": null,
   "id": "77541d12-014e-43eb-b0f3-89894fb2f93a",
   "metadata": {},
   "outputs": [],
   "source": [
    "print(nullmodel_normal.converged)"
   ]
  },
  {
   "cell_type": "code",
   "execution_count": null,
   "id": "ade513ea-664a-4d42-ad93-ca5b59c99d63",
   "metadata": {},
   "outputs": [],
   "source": [
    "@elapsed pglmm(nullmodel_normal, plinkfile)"
   ]
  },
  {
   "cell_type": "code",
   "execution_count": null,
   "id": "8faea67c-900b-47da-8bc8-c70207bfb957",
   "metadata": {},
   "outputs": [],
   "source": [
    "#### Prediction Objective ####"
   ]
  },
  {
   "cell_type": "code",
   "execution_count": null,
   "id": "5946dbb4-894a-4c1b-a3c4-02d63b9ef5d2",
   "metadata": {
    "tags": []
   },
   "outputs": [],
   "source": [
    "# training / testing split - exported from plmmr fit\n",
    "traininds = CSV.read(joinpath(\"results\", \"train_indices.csv\"), DataFrame)\n",
    "traininds = traininds[:,1]\n",
    "testinds = CSV.read(joinpath(\"results\", \"test_indices.csv\"), DataFrame)\n",
    "testinds = testinds[:,1]"
   ]
  },
  {
   "cell_type": "code",
   "execution_count": null,
   "id": "2347e266-5ceb-4211-a101-a197bdef3cd0",
   "metadata": {},
   "outputs": [],
   "source": [
    "nullmodel_normal = pglmm_null(@formula(CADfloat ~ sex + age), \n",
    "    family = Normal(),\n",
    "    link = IdentityLink(),\n",
    "    covfile = floatcovfile, \n",
    "    grmfile = grmfile, \n",
    "    covrowinds = traininds,\n",
    "    grminds = traininds)"
   ]
  },
  {
   "cell_type": "code",
   "execution_count": null,
   "id": "0dcea5af-e83c-427a-a1e8-52d089330e2b",
   "metadata": {
    "tags": []
   },
   "outputs": [],
   "source": [
    "modelfit_normal = pglmm(nullmodel_normal, \n",
    "    plinkfile, \n",
    "    geneticrowinds = traininds,\n",
    "    penalty_factor_X = Float64[0; ones(2)]) # we are penalizing the covariates"
   ]
  },
  {
   "cell_type": "code",
   "execution_count": null,
   "id": "8ed2ba05-855b-487d-b345-58fff0495446",
   "metadata": {
    "tags": []
   },
   "outputs": [],
   "source": [
    "using JLD2\n",
    "\n",
    "@save joinpath(\"results\", \"PennCath_pglmm_train.jld2\") modelfit_normal\n",
    "# modelfile = jldopen(joinpath(\"results\", \"PennCath_pglmm_train.jld2\"), \"r\")\n",
    "# modelfit_normal = modelfile[\"modelfit_normal\"]\n",
    "# close(modelfile)"
   ]
  },
  {
   "cell_type": "code",
   "execution_count": null,
   "id": "c0e87926-c6d6-4fdd-9838-9037edd46cf7",
   "metadata": {
    "tags": []
   },
   "outputs": [],
   "source": [
    "pglmmBIC = PenalizedGLMM.GIC(modelfit_normal, :BIC)"
   ]
  },
  {
   "cell_type": "code",
   "execution_count": null,
   "id": "d89e1f23-a723-4549-acf3-5c92d2e7e48e",
   "metadata": {
    "tags": []
   },
   "outputs": [],
   "source": [
    "modelfit_normal.alphas[:, pglmmBIC]"
   ]
  },
  {
   "cell_type": "code",
   "execution_count": null,
   "id": "e29a65ce-5b2b-4a55-911a-d40b77be4908",
   "metadata": {
    "tags": []
   },
   "outputs": [],
   "source": [
    "modelfit_normal.betas[:, pglmmBIC]"
   ]
  },
  {
   "cell_type": "code",
   "execution_count": null,
   "id": "863a9ad7-97a8-4147-b718-18e96dfe242d",
   "metadata": {
    "tags": []
   },
   "outputs": [],
   "source": [
    "yhat = PenalizedGLMM.predict(modelfit_normal,\n",
    "                            @formula(CADfloat ~ sex + age),\n",
    "                            floatcovfile,\n",
    "                            plinkfile,\n",
    "                            grmfile = grmfile,\n",
    "                            testrowinds = testinds,\n",
    "                            trainrowinds = traininds,\n",
    "                            geneticrowinds = testinds,\n",
    "                            s = [pglmmBIC],\n",
    "                            outtype = :response)\n",
    "yhat = vec(yhat)"
   ]
  },
  {
   "cell_type": "code",
   "execution_count": null,
   "id": "632db507-6678-4ab1-a4fc-6188c87f0650",
   "metadata": {
    "tags": []
   },
   "outputs": [],
   "source": [
    "loss = (yhat - covdf[testinds, :CADfloat]).^2\n",
    "mean(loss)"
   ]
  }
 ],
 "metadata": {
  "kernelspec": {
   "display_name": "Julia 1.11.2",
   "language": "julia",
   "name": "julia-1.11"
  },
  "language_info": {
   "file_extension": ".jl",
   "mimetype": "application/julia",
   "name": "julia",
   "version": "1.11.2"
  }
 },
 "nbformat": 4,
 "nbformat_minor": 5
}
